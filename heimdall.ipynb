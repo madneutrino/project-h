{
 "cells": [
  {
   "cell_type": "code",
   "execution_count": 4,
   "id": "329e5ba2",
   "metadata": {},
   "outputs": [
    {
     "name": "stdout",
     "output_type": "stream",
     "text": [
      "Requirement already satisfied: radcad in /Users/nishanths/opt/anaconda3/lib/python3.9/site-packages (0.8.4)\n",
      "Requirement already satisfied: pandas<2.0.0,>=1.0.0 in /Users/nishanths/opt/anaconda3/lib/python3.9/site-packages (from radcad) (1.3.4)\n",
      "Requirement already satisfied: pathos<0.3.0,>=0.2.7 in /Users/nishanths/opt/anaconda3/lib/python3.9/site-packages (from radcad) (0.2.8)\n",
      "Requirement already satisfied: python-dateutil>=2.7.3 in /Users/nishanths/opt/anaconda3/lib/python3.9/site-packages (from pandas<2.0.0,>=1.0.0->radcad) (2.8.2)\n",
      "Requirement already satisfied: pytz>=2017.3 in /Users/nishanths/opt/anaconda3/lib/python3.9/site-packages (from pandas<2.0.0,>=1.0.0->radcad) (2021.3)\n",
      "Requirement already satisfied: numpy>=1.17.3 in /Users/nishanths/opt/anaconda3/lib/python3.9/site-packages (from pandas<2.0.0,>=1.0.0->radcad) (1.20.3)\n",
      "Requirement already satisfied: ppft>=1.6.6.4 in /Users/nishanths/opt/anaconda3/lib/python3.9/site-packages (from pathos<0.3.0,>=0.2.7->radcad) (1.6.6.4)\n",
      "Requirement already satisfied: multiprocess>=0.70.12 in /Users/nishanths/opt/anaconda3/lib/python3.9/site-packages (from pathos<0.3.0,>=0.2.7->radcad) (0.70.12.2)\n",
      "Requirement already satisfied: pox>=0.3.0 in /Users/nishanths/opt/anaconda3/lib/python3.9/site-packages (from pathos<0.3.0,>=0.2.7->radcad) (0.3.0)\n",
      "Requirement already satisfied: dill>=0.3.4 in /Users/nishanths/opt/anaconda3/lib/python3.9/site-packages (from pathos<0.3.0,>=0.2.7->radcad) (0.3.4)\n",
      "Requirement already satisfied: six>=1.7.3 in /Users/nishanths/opt/anaconda3/lib/python3.9/site-packages (from ppft>=1.6.6.4->pathos<0.3.0,>=0.2.7->radcad) (1.16.0)\n",
      "Note: you may need to restart the kernel to use updated packages.\n",
      "Requirement already satisfied: pandas in /Users/nishanths/opt/anaconda3/lib/python3.9/site-packages (1.3.4)\n",
      "Requirement already satisfied: python-dateutil>=2.7.3 in /Users/nishanths/opt/anaconda3/lib/python3.9/site-packages (from pandas) (2.8.2)\n",
      "Requirement already satisfied: pytz>=2017.3 in /Users/nishanths/opt/anaconda3/lib/python3.9/site-packages (from pandas) (2021.3)\n",
      "Requirement already satisfied: numpy>=1.17.3 in /Users/nishanths/opt/anaconda3/lib/python3.9/site-packages (from pandas) (1.20.3)\n",
      "Requirement already satisfied: six>=1.5 in /Users/nishanths/opt/anaconda3/lib/python3.9/site-packages (from python-dateutil>=2.7.3->pandas) (1.16.0)\n",
      "Note: you may need to restart the kernel to use updated packages.\n",
      "Requirement already satisfied: numpy in /Users/nishanths/opt/anaconda3/lib/python3.9/site-packages (1.20.3)\n",
      "Note: you may need to restart the kernel to use updated packages.\n",
      "Requirement already satisfied: plotly in /Users/nishanths/opt/anaconda3/lib/python3.9/site-packages (5.6.0)\n",
      "Requirement already satisfied: six in /Users/nishanths/opt/anaconda3/lib/python3.9/site-packages (from plotly) (1.16.0)\n",
      "Requirement already satisfied: tenacity>=6.2.0 in /Users/nishanths/opt/anaconda3/lib/python3.9/site-packages (from plotly) (8.0.1)\n",
      "Note: you may need to restart the kernel to use updated packages.\n"
     ]
    }
   ],
   "source": [
    "%pip install radcad\n",
    "%pip install pandas\n",
    "%pip install numpy\n",
    "%pip install plotly"
   ]
  },
  {
   "cell_type": "code",
   "execution_count": 5,
   "id": "c125fd93",
   "metadata": {},
   "outputs": [
    {
     "data": {
      "text/plain": [
       "1.0"
      ]
     },
     "execution_count": 5,
     "metadata": {},
     "output_type": "execute_result"
    }
   ],
   "source": [
    "from radcad import Model, Simulation, Experiment\n",
    "import math\n",
    "import pandas as pd\n",
    "import plotly\n",
    "from numpy import random\n",
    "from functools import partial\n",
    "\n",
    "from models import Stake, LiquidityPool, SingleStaker\n",
    "\n",
    "def _update_from_signal(\n",
    "    state_variable,\n",
    "    signal_key,\n",
    "    params,\n",
    "    substep,\n",
    "    state_history,\n",
    "    previous_state,\n",
    "    policy_input,\n",
    "):\n",
    "    return state_variable, policy_input[signal_key]\n",
    "\n",
    "\n",
    "def update_from_signal(state_variable, signal_key=None):\n",
    "    \"\"\"A generic State Update Function to update a State Variable directly from a Policy Signal\n",
    "    Args:\n",
    "        state_variable (str): State Variable key\n",
    "        signal_key (str, optional): Policy Signal key. Defaults to None.\n",
    "    Returns:\n",
    "        Callable: A generic State Update Function\n",
    "    \"\"\"\n",
    "    if not signal_key:\n",
    "        signal_key = state_variable\n",
    "    return partial(_update_from_signal, state_variable, signal_key)\n",
    "\n",
    "\n",
    "random.seed(1234)\n",
    "\n",
    "initial_state = {\n",
    "    # this is heimdall's vault\n",
    "    'rune_vault': 0.0,\n",
    "    'asset_vault': 0.0,\n",
    "    # this is the thorchain pool\n",
    "    'rune_pool': LiquidityPool(token='rune', value=400.0, shares=400.0),\n",
    "    'asset_pool': LiquidityPool(token='asset', value=1.0, shares=1.0),\n",
    "    # these refer to heimdall's stake in the rune pool. We also need to keep track of shares in the pool\n",
    "    'rune_stake': 0.0,\n",
    "    'asset_stake': 0.0,\n",
    "    # the `staked` below is a single sided stake amount, and these are single sided stakers.\n",
    "    # lp_ratio is a placeholder to indicate share of the lp'ed amount\n",
    "    'asset_stakers': [SingleStaker(token='asset', wallet=10.0, lp_ratio=0.0, staked=0.0) for i in range(10)],\n",
    "    'rune_stakers': [SingleStaker(token='rune', wallet=10000.0, lp_ratio=0.0, staked=0.0) for i in range(10)],\n",
    "}\n",
    "\n",
    "params = {\n",
    "    # price in USD to calculate value of gas fee.\n",
    "    'asset_price': [2000.0],\n",
    "    'rune_price': [5.0],\n",
    "    'thor_chain_tx_fees': [0.2],\n",
    "    'asset_chain_tx_fees': [0.01],\n",
    "    'lp_threshold': [1000.0],\n",
    "    'max_swap_amount': [50.0],\n",
    "    'asset_stake_amount': [1500],\n",
    "    'rune_stake_amount': [800]\n",
    "}\n",
    "\n",
    "initial_state['asset_pool'].value"
   ]
  },
  {
   "cell_type": "code",
   "execution_count": 6,
   "id": "eba7521d",
   "metadata": {},
   "outputs": [],
   "source": [
    "def to_rune(val_usd, params):\n",
    "    return val_usd / params['rune_price']\n",
    "\n",
    "def to_asset(val_usd, params):\n",
    "    return val_usd / params['asset_price']\n",
    "\n",
    "def from_rune(val_rune, params):\n",
    "    # returns USD value\n",
    "    return val_rune * params['rune_price']\n",
    "\n",
    "def from_asset(val_asset, params):\n",
    "    # returns USD value\n",
    "    return val_asset * params['asset_price']\n",
    "\n",
    "def swap_to_pool(swap_amount_from, from_pool, to_pool):\n",
    "    return ((swap_amount_from * from_pool * to_pool) / ((swap_amount_from + from_pool) ** 2))\n",
    "\n",
    "def swap_to_rune(swap_amount_asset, previous_state):\n",
    "    return swap_to_pool(swap_amount_asset, previous_state['asset_pool'].value, previous_state['rune_pool'].value)\n",
    "\n",
    "def swap_to_asset(swap_amount_rune, previous_state):\n",
    "    return swap_to_pool(swap_amount_rune, previous_state['rune_pool'].value, previous_state['asset_pool'].value)\n",
    "\n",
    "def lp_fees(swap_amount_from, from_pool, to_pool, to_tx_fees):\n",
    "    return to_tx_fees + ((swap_amount_from**2)*to_pool/(swap_amount_from+from_pool)**2)\n",
    "    \n",
    "def lp_fees_to_asset(swap_amount_rune, params, previous_state):\n",
    "    return lp_fees(swap_amount_rune, previous_state['rune_pool'].value, previous_state['asset_pool'].value, params['asset_chain_tx_fees'])    \n",
    "    \n",
    "def lp_fees_to_rune(swap_amount_asset, params, previous_state):\n",
    "    return lp_fees(swap_amount_asset, previous_state['asset_pool'].value, \n",
    "                   previous_state['rune_pool'].value, params['thor_chain_tx_fees'])"
   ]
  },
  {
   "cell_type": "code",
   "execution_count": 7,
   "id": "4b2f3d17",
   "metadata": {},
   "outputs": [
    {
     "data": {
      "text/plain": [
       "[{'from': 'rune',\n",
       "  'amount': 0.5932499999999998,\n",
       "  'profit': 0.03425687430445168,\n",
       "  'emissions': 0.6994520825605016,\n",
       "  'rune_fees': 0.001,\n",
       "  'asset_chain_fees': 0.001,\n",
       "  'treasury_fees': 0.001,\n",
       "  'lp_fees': 0.01957274765905579,\n",
       "  'asset_pool_change': -0.7014520825605016,\n",
       "  'rune_pool_change': 0.5932499999999998,\n",
       "  'rune_pool': 20.59325,\n",
       "  'asset_pool': 24.2985479174395},\n",
       " {'from': 'rune',\n",
       "  'amount': 0.3105704011068661,\n",
       "  'profit': 0.0075080629064049895,\n",
       "  'emissions': 0.3556427377925234,\n",
       "  'rune_fees': 0.001,\n",
       "  'asset_chain_fees': 0.001,\n",
       "  'treasury_fees': 0.001,\n",
       "  'lp_fees': 0.0057271592368504836,\n",
       "  'asset_pool_change': -0.3576427377925234,\n",
       "  'rune_pool_change': 0.3105704011068661,\n",
       "  'rune_pool': 20.903820401106866,\n",
       "  'asset_pool': 23.940905179646975},\n",
       " {'from': 'rune',\n",
       "  'amount': 0.15862668408395358,\n",
       "  'profit': 0.00042576485697329476,\n",
       "  'emissions': 0.17894716548991874,\n",
       "  'rune_fees': 0.001,\n",
       "  'asset_chain_fees': 0.001,\n",
       "  'treasury_fees': 0.001,\n",
       "  'lp_fees': 0.0021221314309487053,\n",
       "  'asset_pool_change': -0.18094716548991874,\n",
       "  'rune_pool_change': 0.15862668408395358,\n",
       "  'rune_pool': 21.06244708519082,\n",
       "  'asset_pool': 23.759958014157057}]"
      ]
     },
     "execution_count": 7,
     "metadata": {},
     "output_type": "execute_result"
    }
   ],
   "source": [
    "def do_arb(rune_pool, asset_pool, rune_price, asset_price, rune_fees, asset_fees):\n",
    "    precision = 0.0001\n",
    "    # adapted from https://gitlab.com/thorchain/trade-bots/samaritan/-/blob/master/src/samaritan.py\n",
    "    ratio = rune_price / asset_price\n",
    "    # this is the amount of rune / asset that would need to be added to match the pools price with the external price, \n",
    "    # keeping the other pool constant\n",
    "    expected_rune = (asset_pool / ratio) - rune_pool\n",
    "    expected_asset = (rune_pool * ratio) - asset_pool\n",
    "    \n",
    "    _from, expected = (\"rune\", expected_rune) if expected_rune > 0 else (\"asset\", expected_asset)    \n",
    "    from_pool, from_price, from_fees, to_pool, to_price, to_fees = (rune_pool, rune_price, rune_fees, asset_pool, asset_price, asset_fees) \\\n",
    "    if _from == \"rune\" else (asset_pool, asset_price, asset_fees, rune_pool, rune_price, rune_fees)\n",
    "\n",
    "    # The original samaritan bot finds a swap with a min profit with the largest trade possible\n",
    "    # \n",
    "    # Here, find the swap with max profit, to a certain precision.\n",
    "    # To maximise profit, would have to go lower to find max profit to the required precision.\n",
    "    todo = {\n",
    "        \"profit\": None,\n",
    "        \"to_sell\": None,\n",
    "        \"emissions\": None,\n",
    "    }\n",
    "    \n",
    "    for i in range(0, 10000):\n",
    "        # we start at the expected / 2. When you swap in an asset, the other side will go down.\n",
    "        # if the exchange rate stays constant as the amount swapped increases, the expected / 2 would be the optimal amount.\n",
    "        # but thorchain increase slippage as the amount goes up, so the amount will be lesser than that.\n",
    "        # We just brute force to find max amount that generates a profit. \n",
    "        to_sell = abs(expected) * (1 - (i * precision))\n",
    "        to_pool = asset_pool if _from == \"rune\" else rune_pool\n",
    "        \n",
    "        emission = swap_to_pool(to_sell, from_pool, to_pool)\n",
    "        \n",
    "        # the good samaritan bot code doesnt seem to take tx fees into account, it's doing BNB / RUNE so perhaps it doesnt matter?        \n",
    "        profit = (emission * to_price) - (to_sell * from_price) - rune_fees - asset_fees\n",
    "\n",
    "        if todo['profit'] is None or profit > todo['profit']:\n",
    "            todo['profit'] = profit\n",
    "            todo['to_sell'] = to_sell\n",
    "            todo['emissions'] = emission\n",
    "#             print(\"{}: {}\".format(todo, _from))\n",
    "        else:\n",
    "            # we break if the new profit isnt greated than the previous profit.\n",
    "            # given the shape of the curve eg: https://www.wolframalpha.com/input?i=x*%2825*20%2F%28x%2B20%29%5E2%29+-+x*0.8+%29\n",
    "            # there is only 1 maxima.\n",
    "            # here we limit the resolution to changes of `precision` \n",
    "            break\n",
    "    \n",
    "    from_change = todo['to_sell']\n",
    "    to_change = todo['emissions'] + 2 * to_fees\n",
    "    new_from_pool = from_pool+ from_change\n",
    "    new_to_pool = to_pool-to_change\n",
    "    \n",
    "    _lp_fees = lp_fees(todo['to_sell'], from_pool, to_pool, to_fees) * to_price\n",
    "                        \n",
    "    return {\n",
    "        'from': _from, # rune | asset \n",
    "        'amount': todo['to_sell'], # amount to swap\n",
    "        'profit': todo['profit'],\n",
    "        'emissions': todo['emissions'],\n",
    "        # values after swap\n",
    "\n",
    "        'rune_fees': rune_fees,\n",
    "        'asset_chain_fees': asset_fees,\n",
    "        'treasury_fees': to_fees,\n",
    "        'lp_fees': _lp_fees,\n",
    "        'asset_pool_change': -to_change if _from == \"rune\" else from_change,\n",
    "        'rune_pool_change': from_change if _from == \"rune\" else -to_change,\n",
    "        \n",
    "        'rune_pool': new_from_pool if _from == \"rune\" else new_to_pool,\n",
    "        'asset_pool': new_to_pool if _from == \"rune\" else new_from_pool,\n",
    "    }\n",
    "\n",
    "def arb_bots(rune_pool, asset_pool, rune_price, asset_price, rune_fees, asset_fees):\n",
    "    arb = do_arb(rune_pool, asset_pool, rune_price, asset_price, rune_fees, asset_fees)\n",
    "    arbs = []\n",
    "    while(arb['profit'] is not None and arb['profit'] > 0):\n",
    "        arbs.append(arb)\n",
    "        new_rune_pool = arb['rune_pool']\n",
    "        new_asset_pool = arb['asset_pool']        \n",
    "        arb = do_arb(new_rune_pool, new_asset_pool, rune_price, asset_price, rune_fees, asset_fees)\n",
    "    return arbs\n",
    "\n",
    "\n",
    "\n",
    "arb_bots(20.0,25.0,1.0,0.9, 0.001,0.001)"
   ]
  },
  {
   "cell_type": "code",
   "execution_count": 8,
   "id": "84f85a81",
   "metadata": {},
   "outputs": [],
   "source": [
    "def p_add_lp(params, substep, state_history, previous_state):\n",
    "    asset_threshold = to_asset(params['lp_threshold'], params)\n",
    "    rune_threshold = to_rune(params['lp_threshold'], params)\n",
    "    if (previous_state['asset_vault'] > asset_threshold + params['asset_chain_tx_fees']) and \\\n",
    "        (previous_state['rune_vault'] > rune_threshold + params['thor_chain_tx_fees']):\n",
    "        return {\n",
    "            'rune_fees': 0,\n",
    "            'asset_chain_fees': params['asset_chain_tx_fees'],\n",
    "            'thor_chain_fees': params['thor_chain_tx_fees'],\n",
    "            'treasury_fees': 0,\n",
    "            'lp_fees': 0,\n",
    "            'asset_vault_change': -(asset_threshold + params['asset_chain_tx_fees']),\n",
    "            'rune_vault_change': -(rune_threshold + params['thor_chain_tx_fees']),\n",
    "            'asset_pool_change': asset_threshold,\n",
    "            'rune_pool_change': rune_threshold,\n",
    "            'asset_pool_shares_change': asset_threshold,\n",
    "            'rune_pool_shares_change': rune_threshold,\n",
    "            'asset_stake_change': asset_threshold,\n",
    "            'rune_stake_change': rune_threshold\n",
    "        }\n",
    "    else:\n",
    "        return {}\n",
    "\n",
    "def p_swap_to_rune(params, substep, state_history, previous_state):\n",
    "    swap_amount_asset = to_asset(random.rand() * params['max_swap_amount'], params)\n",
    "    amount_rune = swap_to_rune(swap_amount_asset, previous_state)\n",
    "    if swap_amount_asset > previous_state['asset_pool'].value:\n",
    "        return {\n",
    "            'rune_fees': 0,\n",
    "            'asset_chain_fees': 0,\n",
    "            'treasury_fees': 0,\n",
    "            'lp_fees': 0,\n",
    "            'asset_pool_change': 0,\n",
    "            'rune_pool_change': 0,\n",
    "        }\n",
    "    \n",
    "    return {\n",
    "        'rune_fees': params['thor_chain_tx_fees'],\n",
    "        'asset_chain_fees': params['asset_chain_tx_fees'],\n",
    "        'treasury_fees': params['thor_chain_tx_fees'],\n",
    "        'lp_fees': from_rune(lp_fees_to_rune(swap_amount_asset, params, previous_state), params),\n",
    "        'asset_pool_change': swap_amount_asset,\n",
    "        'rune_pool_change': -(amount_rune + 2 * params['thor_chain_tx_fees']) # add treasury and chain fees\n",
    "    }\n",
    "\n",
    "def p_swap_to_asset(params, substep, state_history, previous_state):\n",
    "    swap_amount_rune = to_rune(random.rand() * params['max_swap_amount'], params)\n",
    "    amount_asset = swap_to_asset(swap_amount_rune, previous_state)\n",
    "    if swap_amount_rune > previous_state['rune_pool'].value:\n",
    "        return {\n",
    "            'rune_fees': 0,\n",
    "            'asset_chain_fees': 0,\n",
    "            'treasury_fees': 0,\n",
    "            'lp_fees': 0,\n",
    "            'asset_pool_change': 0,\n",
    "            'rune_pool_change': 0,\n",
    "        }\n",
    "    \n",
    "    return {\n",
    "        'rune_fees': params['thor_chain_tx_fees'],\n",
    "        'asset_chain_fees': params['asset_chain_tx_fees'],\n",
    "        'treasury_fees': params['asset_chain_tx_fees'],\n",
    "        'lp_fees': from_asset(lp_fees_to_asset(swap_amount_rune, params, previous_state), params),\n",
    "        'asset_pool_change': -(amount_asset + 2 * params['asset_chain_tx_fees']), # add treasury and chain fees,\n",
    "        'rune_pool_change': swap_amount_rune\n",
    "    }\n",
    "\n",
    "def p_remove_lp(params, substep, state_history, previous_state):\n",
    "    \n",
    "    \n",
    "    return {\n",
    "        'rune_fees': 0,\n",
    "        'asset_chain_fees': 0,\n",
    "        'treasury_fees': 0,\n",
    "        'lp_fees': 0,\n",
    "        'asset_pool_change': 0,\n",
    "        'rune_pool_change': 0,\n",
    "        'asset_vault_change': 0,\n",
    "        'rune_vault_change': 0,\n",
    "        'asset_stake_change': 0,\n",
    "        'rune_stake_change': 0,\n",
    "    }\n",
    "\n",
    "def p_ilp_bonus(params, substep, state_history, previous_state):\n",
    "    #TODO. Only applicable when removing.\n",
    "    return {\n",
    "        'rune_pool_change': 0,\n",
    "    }\n",
    "\n",
    "def p_add_to_vault(params, substep, state_history, previous_state):\n",
    "    new_asset_deposit = 0\n",
    "    new_rune_deposit = 0\n",
    "    asset_staker_changes = [0] * len(previous_state['asset_stakers'])\n",
    "    rune_staker_changes = [0] * len(previous_state['rune_stakers'])\n",
    "        \n",
    "    if (previous_state['timestep'] % 10 == 0):\n",
    "        new_asset_deposit = to_asset(params['asset_stake_amount'], params)\n",
    "        asset_staker = int(previous_state['timestep'] / 10)\n",
    "        asset_staker_changes[asset_staker] = -new_asset_deposit\n",
    "\n",
    "    if (previous_state['timestep'] % 5 == 0):\n",
    "        new_rune_deposit = to_rune(params['rune_stake_amount'], params)\n",
    "        rune_staker = int(previous_state['timestep'] / 10)\n",
    "        rune_staker_changes[rune_staker] = -new_rune_deposit\n",
    "    \n",
    "    \n",
    "    return {\n",
    "        'asset_vault_change': new_asset_deposit,\n",
    "        'rune_vault_change': new_rune_deposit,\n",
    "        'asset_staker_changes': asset_staker_changes,\n",
    "        'rune_staker_changes': rune_staker_changes\n",
    "    }\n",
    "\n",
    "def p_arb_bots(params, substep, state_history, previous_state):\n",
    "    target_price = params['asset_price'] / params['rune_price']\n",
    "    current_price = previous_state['rune_pool'].value / previous_state['asset_pool'].value\n",
    "    transactions = arb_bots(\n",
    "        previous_state['rune_pool'].value, previous_state['asset_pool'].value,\n",
    "        params['rune_price'], params['asset_price'], params['thor_chain_tx_fees'],\n",
    "        params['asset_chain_tx_fees']\n",
    "    )\n",
    "    return {\n",
    "        'rune_fees': sum(t['rune_fees'] for t in transactions),\n",
    "        'asset_chain_fees': sum(t['asset_chain_fees'] for t in transactions),\n",
    "        'treasury_fees': sum(t['treasury_fees'] for t in transactions),\n",
    "        'lp_fees': sum(t['lp_fees'] for t in transactions),\n",
    "        'asset_pool_change': sum(t['asset_pool_change'] for t in transactions),\n",
    "        'rune_pool_change': sum(t['rune_pool_change'] for t in transactions)\n",
    "    }"
   ]
  },
  {
   "cell_type": "code",
   "execution_count": 9,
   "id": "3c049784",
   "metadata": {},
   "outputs": [],
   "source": [
    "def s_asset_vault(params, substep, state_history, previous_state, policy_input):\n",
    "    return 'asset_vault', previous_state['asset_vault'] + policy_input['asset_vault_change']\n",
    "\n",
    "def s_rune_vault(params, substep, state_history, previous_state, policy_input):    \n",
    "    return 'rune_vault', previous_state['rune_vault'] + policy_input['rune_vault_change']\n",
    "\n",
    "def s_asset_pool(params, substep, state_history, previous_state, policy_input):\n",
    "    return 'asset_pool', LiquidityPool(\n",
    "        token=previous_state['asset_pool'].token,\n",
    "        value=previous_state['asset_pool'].value + policy_input['asset_pool_change'],\n",
    "        shares=previous_state['asset_pool'].shares + policy_input.get('asset_pool_shares_change', 0)\n",
    "    )\n",
    "\n",
    "def s_rune_pool(params, substep, state_history, previous_state, policy_input):\n",
    "    return 'rune_pool', LiquidityPool(\n",
    "        token=previous_state['rune_pool'].token,\n",
    "        value=previous_state['rune_pool'].value + policy_input['rune_pool_change'],\n",
    "        shares=previous_state['rune_pool'].shares + policy_input.get('rune_pool_shares_change', 0)\n",
    "    )\n",
    "        \n",
    "\n",
    "def s_rune_stake(params, substep, state_history, previous_state, policy_input):\n",
    "    return 'rune_stake', previous_state['rune_stake'] + policy_input['rune_stake_change']\n",
    "\n",
    "def s_asset_stake(params, substep, state_history, previous_state, policy_input):\n",
    "    return 'asset_stake', previous_state['asset_stake'] + policy_input['asset_stake_change']\n",
    "\n",
    "def update_stakers(stakers, staker_changes):\n",
    "    return [SingleStaker(\n",
    "        token=stakers[i].token,\n",
    "        wallet=stakers[i].wallet + staker_changes[i],\n",
    "        staked=-staker_changes[i],\n",
    "        lp_ratio=0) for i in range(len(stakers))]\n",
    "    \n",
    "def s_asset_stakers(params, substep, state_history, previous_state, policy_input):\n",
    "    return 'asset_stakers', update_stakers(previous_state['asset_stakers'], policy_input['asset_staker_changes'])\n",
    "\n",
    "def s_rune_stakers(params, substep, state_history, previous_state, policy_input):\n",
    "    return 'rune_stakers', update_stakers(previous_state['rune_stakers'], policy_input['rune_staker_changes'])\n"
   ]
  },
  {
   "cell_type": "code",
   "execution_count": 10,
   "id": "e19bd82a",
   "metadata": {},
   "outputs": [],
   "source": [
    "state_update_blocks = [\n",
    "    {\n",
    "        'policies': {\n",
    "            'p_arb_bots': p_arb_bots,\n",
    "        },\n",
    "        'variables': {\n",
    "            'asset_pool': s_asset_pool,\n",
    "            'rune_pool': s_rune_pool,            \n",
    "        }\n",
    "    },\n",
    "    {\n",
    "        'policies': {\n",
    "            'add_lp': p_add_lp,\n",
    "            'remove_lp': p_remove_lp,\n",
    "            'add_to_vault': p_add_to_vault,\n",
    "            # does this belong here given that it flows from remove_lp\n",
    "#             'ilp_bonus': p_ilp_bonus,\n",
    "        },\n",
    "        'variables': {\n",
    "            'asset_vault': s_asset_vault,\n",
    "            'rune_vault': s_rune_vault,\n",
    "            'asset_pool': s_asset_pool,            \n",
    "            'rune_pool': s_rune_pool,\n",
    "            'asset_stake': s_asset_stake,\n",
    "            'rune_stake': s_rune_stake,\n",
    "            'asset_stakers': s_asset_stakers,\n",
    "            'rune_stakers': s_rune_stakers\n",
    "        }\n",
    "    },\n",
    "    {\n",
    "        'policies': {\n",
    "            'swap_to_rune': p_swap_to_rune,\n",
    "            'swap_to_asset': p_swap_to_asset,\n",
    "        },\n",
    "        'variables': {\n",
    "            'asset_pool': s_asset_pool,\n",
    "            'rune_pool': s_rune_pool,            \n",
    "        }\n",
    "    },\n",
    "]"
   ]
  },
  {
   "cell_type": "code",
   "execution_count": 19,
   "id": "838efb9b",
   "metadata": {},
   "outputs": [
    {
     "name": "stdout",
     "output_type": "stream",
     "text": [
      "Traceback (most recent call last):\n",
      "  File \"/Users/nishanths/opt/anaconda3/lib/python3.9/site-packages/radcad/core.py\", line 100, in single_run\n",
      "    _single_run(\n",
      "  File \"/Users/nishanths/opt/anaconda3/lib/python3.9/site-packages/radcad/core.py\", line 68, in _single_run\n",
      "    signals: dict = reduce_signals(\n",
      "  File \"/Users/nishanths/opt/anaconda3/lib/python3.9/site-packages/radcad/core.py\", line 179, in reduce_signals\n",
      "    policy_results: List[Dict[str, any]] = list(\n",
      "  File \"/Users/nishanths/opt/anaconda3/lib/python3.9/site-packages/radcad/core.py\", line 180, in <lambda>\n",
      "    map(lambda function: function(params, substep, result, substate), psu[\"policies\"].values())\n",
      "  File \"/var/folders/9t/pyh6d_sx4zj9dytr6955qcz80000gn/T/ipykernel_66549/582641236.py\", line 99, in p_add_to_vault\n",
      "    asset_staker_changes[asset_staker] = -new_asset_deposit\n",
      "IndexError: list assignment index out of range\n",
      "\n"
     ]
    },
    {
     "name": "stderr",
     "output_type": "stream",
     "text": [
      "WARNING:root:Simulation 0 / run 0 / subset 0 failed! Returning partial results if Engine.raise_exceptions == False.\n"
     ]
    },
    {
     "ename": "IndexError",
     "evalue": "list assignment index out of range",
     "output_type": "error",
     "traceback": [
      "\u001B[0;31m---------------------------------------------------------------------------\u001B[0m",
      "\u001B[0;31mRemoteTraceback\u001B[0m                           Traceback (most recent call last)",
      "\u001B[0;31mRemoteTraceback\u001B[0m: \n\"\"\"\nTraceback (most recent call last):\n  File \"/Users/nishanths/opt/anaconda3/lib/python3.9/site-packages/multiprocess/pool.py\", line 125, in worker\n    result = (True, func(*args, **kwds))\n  File \"/Users/nishanths/opt/anaconda3/lib/python3.9/site-packages/multiprocess/pool.py\", line 48, in mapstar\n    return list(map(*args))\n  File \"/Users/nishanths/opt/anaconda3/lib/python3.9/site-packages/pathos/helpers/mp_helper.py\", line 15, in <lambda>\n    func = lambda args: f(*args)\n  File \"/Users/nishanths/opt/anaconda3/lib/python3.9/site-packages/radcad/core.py\", line 143, in _single_run_wrapper\n    raise e\n  File \"/Users/nishanths/opt/anaconda3/lib/python3.9/site-packages/radcad/core.py\", line 129, in _single_run_wrapper\n    raise exception\n  File \"/Users/nishanths/opt/anaconda3/lib/python3.9/site-packages/radcad/core.py\", line 100, in single_run\n    _single_run(\n  File \"/Users/nishanths/opt/anaconda3/lib/python3.9/site-packages/radcad/core.py\", line 68, in _single_run\n    signals: dict = reduce_signals(\n  File \"/Users/nishanths/opt/anaconda3/lib/python3.9/site-packages/radcad/core.py\", line 179, in reduce_signals\n    policy_results: List[Dict[str, any]] = list(\n  File \"/Users/nishanths/opt/anaconda3/lib/python3.9/site-packages/radcad/core.py\", line 180, in <lambda>\n    map(lambda function: function(params, substep, result, substate), psu[\"policies\"].values())\n  File \"/var/folders/9t/pyh6d_sx4zj9dytr6955qcz80000gn/T/ipykernel_66549/582641236.py\", line 99, in p_add_to_vault\n    asset_staker_changes[asset_staker] = -new_asset_deposit\nIndexError: list assignment index out of range\n\"\"\"",
      "\nThe above exception was the direct cause of the following exception:\n",
      "\u001B[0;31mIndexError\u001B[0m                                Traceback (most recent call last)",
      "\u001B[0;32m/var/folders/9t/pyh6d_sx4zj9dytr6955qcz80000gn/T/ipykernel_66549/1994043971.py\u001B[0m in \u001B[0;36m<module>\u001B[0;34m\u001B[0m\n\u001B[1;32m     15\u001B[0m \u001B[0;34m\u001B[0m\u001B[0m\n\u001B[1;32m     16\u001B[0m \u001B[0;31m# Executes the simulation, and returns the raw results\u001B[0m\u001B[0;34m\u001B[0m\u001B[0;34m\u001B[0m\u001B[0m\n\u001B[0;32m---> 17\u001B[0;31m \u001B[0mresult\u001B[0m \u001B[0;34m=\u001B[0m \u001B[0msimulation\u001B[0m\u001B[0;34m.\u001B[0m\u001B[0mrun\u001B[0m\u001B[0;34m(\u001B[0m\u001B[0;34m)\u001B[0m\u001B[0;34m\u001B[0m\u001B[0;34m\u001B[0m\u001B[0m\n\u001B[0m\u001B[1;32m     18\u001B[0m \u001B[0;34m\u001B[0m\u001B[0m\n\u001B[1;32m     19\u001B[0m \u001B[0mdf\u001B[0m \u001B[0;34m=\u001B[0m \u001B[0mpd\u001B[0m\u001B[0;34m.\u001B[0m\u001B[0mDataFrame\u001B[0m\u001B[0;34m(\u001B[0m\u001B[0mresult\u001B[0m\u001B[0;34m)\u001B[0m\u001B[0;34m\u001B[0m\u001B[0;34m\u001B[0m\u001B[0m\n",
      "\u001B[0;32m~/opt/anaconda3/lib/python3.9/site-packages/radcad/wrappers.py\u001B[0m in \u001B[0;36mrun\u001B[0;34m(self)\u001B[0m\n\u001B[1;32m    149\u001B[0m \u001B[0;34m\u001B[0m\u001B[0m\n\u001B[1;32m    150\u001B[0m     \u001B[0;32mdef\u001B[0m \u001B[0mrun\u001B[0m\u001B[0;34m(\u001B[0m\u001B[0mself\u001B[0m\u001B[0;34m)\u001B[0m\u001B[0;34m:\u001B[0m\u001B[0;34m\u001B[0m\u001B[0;34m\u001B[0m\u001B[0m\n\u001B[0;32m--> 151\u001B[0;31m         \u001B[0;32mreturn\u001B[0m \u001B[0mself\u001B[0m\u001B[0;34m.\u001B[0m\u001B[0mengine\u001B[0m\u001B[0;34m.\u001B[0m\u001B[0m_run\u001B[0m\u001B[0;34m(\u001B[0m\u001B[0mexecutable\u001B[0m\u001B[0;34m=\u001B[0m\u001B[0mself\u001B[0m\u001B[0;34m)\u001B[0m\u001B[0;34m\u001B[0m\u001B[0;34m\u001B[0m\u001B[0m\n\u001B[0m\u001B[1;32m    152\u001B[0m \u001B[0;34m\u001B[0m\u001B[0m\n\u001B[1;32m    153\u001B[0m \u001B[0;34m\u001B[0m\u001B[0m\n",
      "\u001B[0;32m~/opt/anaconda3/lib/python3.9/site-packages/radcad/engine.py\u001B[0m in \u001B[0;36m_run\u001B[0;34m(self, executable, **kwargs)\u001B[0m\n\u001B[1;32m     78\u001B[0m             \u001B[0;32mraise\u001B[0m \u001B[0mException\u001B[0m\u001B[0;34m(\u001B[0m\u001B[0;34mf\"Execution backend must be one of {Backend._member_names_}, not {self.backend}\"\u001B[0m\u001B[0;34m)\u001B[0m\u001B[0;34m\u001B[0m\u001B[0;34m\u001B[0m\u001B[0m\n\u001B[1;32m     79\u001B[0m \u001B[0;34m\u001B[0m\u001B[0m\n\u001B[0;32m---> 80\u001B[0;31m         \u001B[0mresult\u001B[0m \u001B[0;34m=\u001B[0m \u001B[0mExecutor\u001B[0m\u001B[0;34m(\u001B[0m\u001B[0mself\u001B[0m\u001B[0;34m)\u001B[0m\u001B[0;34m.\u001B[0m\u001B[0mexecute_runs\u001B[0m\u001B[0;34m(\u001B[0m\u001B[0;34m)\u001B[0m\u001B[0;34m\u001B[0m\u001B[0;34m\u001B[0m\u001B[0m\n\u001B[0m\u001B[1;32m     81\u001B[0m \u001B[0;34m\u001B[0m\u001B[0m\n\u001B[1;32m     82\u001B[0m         \u001B[0mself\u001B[0m\u001B[0;34m.\u001B[0m\u001B[0mexecutable\u001B[0m\u001B[0;34m.\u001B[0m\u001B[0mresults\u001B[0m\u001B[0;34m,\u001B[0m \u001B[0mself\u001B[0m\u001B[0;34m.\u001B[0m\u001B[0mexecutable\u001B[0m\u001B[0;34m.\u001B[0m\u001B[0mexceptions\u001B[0m \u001B[0;34m=\u001B[0m \u001B[0mextract_exceptions\u001B[0m\u001B[0;34m(\u001B[0m\u001B[0mresult\u001B[0m\u001B[0;34m)\u001B[0m\u001B[0;34m\u001B[0m\u001B[0;34m\u001B[0m\u001B[0m\n",
      "\u001B[0;32m~/opt/anaconda3/lib/python3.9/site-packages/radcad/backends/pathos.py\u001B[0m in \u001B[0;36mexecute_runs\u001B[0;34m(self)\u001B[0m\n\u001B[1;32m     19\u001B[0m     \u001B[0;32mdef\u001B[0m \u001B[0mexecute_runs\u001B[0m\u001B[0;34m(\u001B[0m\u001B[0mself\u001B[0m\u001B[0;34m)\u001B[0m\u001B[0;34m:\u001B[0m\u001B[0;34m\u001B[0m\u001B[0;34m\u001B[0m\u001B[0m\n\u001B[1;32m     20\u001B[0m         \u001B[0;32mwith\u001B[0m \u001B[0mProcessPool\u001B[0m\u001B[0;34m(\u001B[0m\u001B[0mself\u001B[0m\u001B[0;34m.\u001B[0m\u001B[0mengine\u001B[0m\u001B[0;34m.\u001B[0m\u001B[0mprocesses\u001B[0m\u001B[0;34m)\u001B[0m \u001B[0;32mas\u001B[0m \u001B[0mpool\u001B[0m\u001B[0;34m:\u001B[0m\u001B[0;34m\u001B[0m\u001B[0;34m\u001B[0m\u001B[0m\n\u001B[0;32m---> 21\u001B[0;31m             result = pool.map(\n\u001B[0m\u001B[1;32m     22\u001B[0m                 \u001B[0mcore\u001B[0m\u001B[0;34m.\u001B[0m\u001B[0m_single_run_wrapper\u001B[0m\u001B[0;34m,\u001B[0m\u001B[0;34m\u001B[0m\u001B[0;34m\u001B[0m\u001B[0m\n\u001B[1;32m     23\u001B[0m                 [\n",
      "\u001B[0;32m~/opt/anaconda3/lib/python3.9/site-packages/pathos/multiprocessing.py\u001B[0m in \u001B[0;36mmap\u001B[0;34m(self, f, *args, **kwds)\u001B[0m\n\u001B[1;32m    137\u001B[0m         \u001B[0mAbstractWorkerPool\u001B[0m\u001B[0;34m.\u001B[0m\u001B[0m_AbstractWorkerPool__map\u001B[0m\u001B[0;34m(\u001B[0m\u001B[0mself\u001B[0m\u001B[0;34m,\u001B[0m \u001B[0mf\u001B[0m\u001B[0;34m,\u001B[0m \u001B[0;34m*\u001B[0m\u001B[0margs\u001B[0m\u001B[0;34m,\u001B[0m \u001B[0;34m**\u001B[0m\u001B[0mkwds\u001B[0m\u001B[0;34m)\u001B[0m\u001B[0;34m\u001B[0m\u001B[0;34m\u001B[0m\u001B[0m\n\u001B[1;32m    138\u001B[0m         \u001B[0m_pool\u001B[0m \u001B[0;34m=\u001B[0m \u001B[0mself\u001B[0m\u001B[0;34m.\u001B[0m\u001B[0m_serve\u001B[0m\u001B[0;34m(\u001B[0m\u001B[0;34m)\u001B[0m\u001B[0;34m\u001B[0m\u001B[0;34m\u001B[0m\u001B[0m\n\u001B[0;32m--> 139\u001B[0;31m         \u001B[0;32mreturn\u001B[0m \u001B[0m_pool\u001B[0m\u001B[0;34m.\u001B[0m\u001B[0mmap\u001B[0m\u001B[0;34m(\u001B[0m\u001B[0mstar\u001B[0m\u001B[0;34m(\u001B[0m\u001B[0mf\u001B[0m\u001B[0;34m)\u001B[0m\u001B[0;34m,\u001B[0m \u001B[0mzip\u001B[0m\u001B[0;34m(\u001B[0m\u001B[0;34m*\u001B[0m\u001B[0margs\u001B[0m\u001B[0;34m)\u001B[0m\u001B[0;34m)\u001B[0m \u001B[0;31m# chunksize\u001B[0m\u001B[0;34m\u001B[0m\u001B[0;34m\u001B[0m\u001B[0m\n\u001B[0m\u001B[1;32m    140\u001B[0m     \u001B[0mmap\u001B[0m\u001B[0;34m.\u001B[0m\u001B[0m__doc__\u001B[0m \u001B[0;34m=\u001B[0m \u001B[0mAbstractWorkerPool\u001B[0m\u001B[0;34m.\u001B[0m\u001B[0mmap\u001B[0m\u001B[0;34m.\u001B[0m\u001B[0m__doc__\u001B[0m\u001B[0;34m\u001B[0m\u001B[0;34m\u001B[0m\u001B[0m\n\u001B[1;32m    141\u001B[0m     \u001B[0;32mdef\u001B[0m \u001B[0mimap\u001B[0m\u001B[0;34m(\u001B[0m\u001B[0mself\u001B[0m\u001B[0;34m,\u001B[0m \u001B[0mf\u001B[0m\u001B[0;34m,\u001B[0m \u001B[0;34m*\u001B[0m\u001B[0margs\u001B[0m\u001B[0;34m,\u001B[0m \u001B[0;34m**\u001B[0m\u001B[0mkwds\u001B[0m\u001B[0;34m)\u001B[0m\u001B[0;34m:\u001B[0m\u001B[0;34m\u001B[0m\u001B[0;34m\u001B[0m\u001B[0m\n",
      "\u001B[0;32m~/opt/anaconda3/lib/python3.9/site-packages/multiprocess/pool.py\u001B[0m in \u001B[0;36mmap\u001B[0;34m(self, func, iterable, chunksize)\u001B[0m\n\u001B[1;32m    362\u001B[0m         \u001B[0;32min\u001B[0m \u001B[0ma\u001B[0m \u001B[0mlist\u001B[0m \u001B[0mthat\u001B[0m \u001B[0;32mis\u001B[0m \u001B[0mreturned\u001B[0m\u001B[0;34m.\u001B[0m\u001B[0;34m\u001B[0m\u001B[0;34m\u001B[0m\u001B[0m\n\u001B[1;32m    363\u001B[0m         '''\n\u001B[0;32m--> 364\u001B[0;31m         \u001B[0;32mreturn\u001B[0m \u001B[0mself\u001B[0m\u001B[0;34m.\u001B[0m\u001B[0m_map_async\u001B[0m\u001B[0;34m(\u001B[0m\u001B[0mfunc\u001B[0m\u001B[0;34m,\u001B[0m \u001B[0miterable\u001B[0m\u001B[0;34m,\u001B[0m \u001B[0mmapstar\u001B[0m\u001B[0;34m,\u001B[0m \u001B[0mchunksize\u001B[0m\u001B[0;34m)\u001B[0m\u001B[0;34m.\u001B[0m\u001B[0mget\u001B[0m\u001B[0;34m(\u001B[0m\u001B[0;34m)\u001B[0m\u001B[0;34m\u001B[0m\u001B[0;34m\u001B[0m\u001B[0m\n\u001B[0m\u001B[1;32m    365\u001B[0m \u001B[0;34m\u001B[0m\u001B[0m\n\u001B[1;32m    366\u001B[0m     \u001B[0;32mdef\u001B[0m \u001B[0mstarmap\u001B[0m\u001B[0;34m(\u001B[0m\u001B[0mself\u001B[0m\u001B[0;34m,\u001B[0m \u001B[0mfunc\u001B[0m\u001B[0;34m,\u001B[0m \u001B[0miterable\u001B[0m\u001B[0;34m,\u001B[0m \u001B[0mchunksize\u001B[0m\u001B[0;34m=\u001B[0m\u001B[0;32mNone\u001B[0m\u001B[0;34m)\u001B[0m\u001B[0;34m:\u001B[0m\u001B[0;34m\u001B[0m\u001B[0;34m\u001B[0m\u001B[0m\n",
      "\u001B[0;32m~/opt/anaconda3/lib/python3.9/site-packages/multiprocess/pool.py\u001B[0m in \u001B[0;36mget\u001B[0;34m(self, timeout)\u001B[0m\n\u001B[1;32m    769\u001B[0m             \u001B[0;32mreturn\u001B[0m \u001B[0mself\u001B[0m\u001B[0;34m.\u001B[0m\u001B[0m_value\u001B[0m\u001B[0;34m\u001B[0m\u001B[0;34m\u001B[0m\u001B[0m\n\u001B[1;32m    770\u001B[0m         \u001B[0;32melse\u001B[0m\u001B[0;34m:\u001B[0m\u001B[0;34m\u001B[0m\u001B[0;34m\u001B[0m\u001B[0m\n\u001B[0;32m--> 771\u001B[0;31m             \u001B[0;32mraise\u001B[0m \u001B[0mself\u001B[0m\u001B[0;34m.\u001B[0m\u001B[0m_value\u001B[0m\u001B[0;34m\u001B[0m\u001B[0;34m\u001B[0m\u001B[0m\n\u001B[0m\u001B[1;32m    772\u001B[0m \u001B[0;34m\u001B[0m\u001B[0m\n\u001B[1;32m    773\u001B[0m     \u001B[0;32mdef\u001B[0m \u001B[0m_set\u001B[0m\u001B[0;34m(\u001B[0m\u001B[0mself\u001B[0m\u001B[0;34m,\u001B[0m \u001B[0mi\u001B[0m\u001B[0;34m,\u001B[0m \u001B[0mobj\u001B[0m\u001B[0;34m)\u001B[0m\u001B[0;34m:\u001B[0m\u001B[0;34m\u001B[0m\u001B[0;34m\u001B[0m\u001B[0m\n",
      "\u001B[0;31mIndexError\u001B[0m: list assignment index out of range"
     ]
    }
   ],
   "source": [
    "model = Model(\n",
    "    # Model initial state\n",
    "    initial_state=initial_state,\n",
    "    # Model Partial State Update Blocks\n",
    "    state_update_blocks=state_update_blocks,\n",
    "    # System Parameters\n",
    "    params=params\n",
    ")\n",
    "\n",
    "simulation = Simulation(\n",
    "    model=model,\n",
    "    timesteps=200,  # Number of timesteps\n",
    "    runs=1  # Number of Monte Carlo Runs\n",
    ")\n",
    "\n",
    "# Executes the simulation, and returns the raw results\n",
    "result = simulation.run()\n",
    "\n",
    "df = pd.DataFrame(result)"
   ]
  },
  {
   "cell_type": "code",
   "execution_count": null,
   "id": "d3c724cf",
   "metadata": {},
   "outputs": [],
   "source": []
  },
  {
   "cell_type": "code",
   "execution_count": 18,
   "id": "430edb23",
   "metadata": {},
   "outputs": [
    {
     "data": {
      "text/html": [
       "<div>\n",
       "<style scoped>\n",
       "    .dataframe tbody tr th:only-of-type {\n",
       "        vertical-align: middle;\n",
       "    }\n",
       "\n",
       "    .dataframe tbody tr th {\n",
       "        vertical-align: top;\n",
       "    }\n",
       "\n",
       "    .dataframe thead th {\n",
       "        text-align: right;\n",
       "    }\n",
       "</style>\n",
       "<table border=\"1\" class=\"dataframe\">\n",
       "  <thead>\n",
       "    <tr style=\"text-align: right;\">\n",
       "      <th></th>\n",
       "      <th>rune_vault</th>\n",
       "      <th>asset_vault</th>\n",
       "      <th>rune_pool</th>\n",
       "      <th>asset_pool</th>\n",
       "      <th>rune_stake</th>\n",
       "      <th>asset_stake</th>\n",
       "      <th>asset_stakers</th>\n",
       "      <th>rune_stakers</th>\n",
       "      <th>simulation</th>\n",
       "      <th>subset</th>\n",
       "      <th>run</th>\n",
       "      <th>substep</th>\n",
       "      <th>timestep</th>\n",
       "      <th>rune_pool_value</th>\n",
       "      <th>asset_pool_value</th>\n",
       "    </tr>\n",
       "  </thead>\n",
       "  <tbody>\n",
       "    <tr>\n",
       "      <th>0</th>\n",
       "      <td>0.0</td>\n",
       "      <td>0.00</td>\n",
       "      <td>LiquidityPool(token='rune', value=400.0, share...</td>\n",
       "      <td>LiquidityPool(token='asset', value=1.0, shares...</td>\n",
       "      <td>0.0</td>\n",
       "      <td>0.0</td>\n",
       "      <td>[SingleStaker(token='asset', wallet=10.0, lp_r...</td>\n",
       "      <td>[SingleStaker(token='rune', wallet=10000.0, lp...</td>\n",
       "      <td>0</td>\n",
       "      <td>0</td>\n",
       "      <td>1</td>\n",
       "      <td>0</td>\n",
       "      <td>0</td>\n",
       "      <td>2000.000000</td>\n",
       "      <td>2000.000000</td>\n",
       "    </tr>\n",
       "    <tr>\n",
       "      <th>1</th>\n",
       "      <td>0.0</td>\n",
       "      <td>0.00</td>\n",
       "      <td>LiquidityPool(token='rune', value=400.0, share...</td>\n",
       "      <td>LiquidityPool(token='asset', value=1.0, shares...</td>\n",
       "      <td>0.0</td>\n",
       "      <td>0.0</td>\n",
       "      <td>[SingleStaker(token='asset', wallet=10.0, lp_r...</td>\n",
       "      <td>[SingleStaker(token='rune', wallet=10000.0, lp...</td>\n",
       "      <td>0</td>\n",
       "      <td>0</td>\n",
       "      <td>1</td>\n",
       "      <td>1</td>\n",
       "      <td>1</td>\n",
       "      <td>2000.000000</td>\n",
       "      <td>2000.000000</td>\n",
       "    </tr>\n",
       "    <tr>\n",
       "      <th>2</th>\n",
       "      <td>0.0</td>\n",
       "      <td>0.00</td>\n",
       "      <td>LiquidityPool(token='rune', value=400.0, share...</td>\n",
       "      <td>LiquidityPool(token='asset', value=1.0, shares...</td>\n",
       "      <td>0.0</td>\n",
       "      <td>0.0</td>\n",
       "      <td>[SingleStaker(token='asset', wallet=10.0, lp_r...</td>\n",
       "      <td>[SingleStaker(token='rune', wallet=10000.0, lp...</td>\n",
       "      <td>0</td>\n",
       "      <td>0</td>\n",
       "      <td>1</td>\n",
       "      <td>2</td>\n",
       "      <td>1</td>\n",
       "      <td>2000.000000</td>\n",
       "      <td>2000.000000</td>\n",
       "    </tr>\n",
       "    <tr>\n",
       "      <th>3</th>\n",
       "      <td>0.0</td>\n",
       "      <td>0.00</td>\n",
       "      <td>LiquidityPool(token='rune', value=403.92410217...</td>\n",
       "      <td>LiquidityPool(token='asset', value=0.969707984...</td>\n",
       "      <td>0.0</td>\n",
       "      <td>0.0</td>\n",
       "      <td>[SingleStaker(token='asset', wallet=10.0, lp_r...</td>\n",
       "      <td>[SingleStaker(token='rune', wallet=10000.0, lp...</td>\n",
       "      <td>0</td>\n",
       "      <td>0</td>\n",
       "      <td>1</td>\n",
       "      <td>3</td>\n",
       "      <td>1</td>\n",
       "      <td>2019.620511</td>\n",
       "      <td>1939.415969</td>\n",
       "    </tr>\n",
       "    <tr>\n",
       "      <th>4</th>\n",
       "      <td>0.0</td>\n",
       "      <td>0.00</td>\n",
       "      <td>LiquidityPool(token='rune', value=399.50361620...</td>\n",
       "      <td>LiquidityPool(token='asset', value=0.979557102...</td>\n",
       "      <td>0.0</td>\n",
       "      <td>0.0</td>\n",
       "      <td>[SingleStaker(token='asset', wallet=10.0, lp_r...</td>\n",
       "      <td>[SingleStaker(token='rune', wallet=10000.0, lp...</td>\n",
       "      <td>0</td>\n",
       "      <td>0</td>\n",
       "      <td>1</td>\n",
       "      <td>1</td>\n",
       "      <td>2</td>\n",
       "      <td>1997.518081</td>\n",
       "      <td>1959.114205</td>\n",
       "    </tr>\n",
       "    <tr>\n",
       "      <th>...</th>\n",
       "      <td>...</td>\n",
       "      <td>...</td>\n",
       "      <td>...</td>\n",
       "      <td>...</td>\n",
       "      <td>...</td>\n",
       "      <td>...</td>\n",
       "      <td>...</td>\n",
       "      <td>...</td>\n",
       "      <td>...</td>\n",
       "      <td>...</td>\n",
       "      <td>...</td>\n",
       "      <td>...</td>\n",
       "      <td>...</td>\n",
       "      <td>...</td>\n",
       "      <td>...</td>\n",
       "    </tr>\n",
       "    <tr>\n",
       "      <th>56</th>\n",
       "      <td>279.8</td>\n",
       "      <td>0.24</td>\n",
       "      <td>LiquidityPool(token='rune', value=528.94923866...</td>\n",
       "      <td>LiquidityPool(token='asset', value=1.297038583...</td>\n",
       "      <td>200.0</td>\n",
       "      <td>0.5</td>\n",
       "      <td>[SingleStaker(token='asset', wallet=10.0, lp_r...</td>\n",
       "      <td>[SingleStaker(token='rune', wallet=9840.0, lp_...</td>\n",
       "      <td>0</td>\n",
       "      <td>0</td>\n",
       "      <td>1</td>\n",
       "      <td>2</td>\n",
       "      <td>19</td>\n",
       "      <td>2644.746193</td>\n",
       "      <td>2594.077167</td>\n",
       "    </tr>\n",
       "    <tr>\n",
       "      <th>57</th>\n",
       "      <td>279.8</td>\n",
       "      <td>0.24</td>\n",
       "      <td>LiquidityPool(token='rune', value=535.58595381...</td>\n",
       "      <td>LiquidityPool(token='asset', value=1.260602418...</td>\n",
       "      <td>200.0</td>\n",
       "      <td>0.5</td>\n",
       "      <td>[SingleStaker(token='asset', wallet=10.0, lp_r...</td>\n",
       "      <td>[SingleStaker(token='rune', wallet=9840.0, lp_...</td>\n",
       "      <td>0</td>\n",
       "      <td>0</td>\n",
       "      <td>1</td>\n",
       "      <td>3</td>\n",
       "      <td>19</td>\n",
       "      <td>2677.929769</td>\n",
       "      <td>2521.204836</td>\n",
       "    </tr>\n",
       "    <tr>\n",
       "      <th>58</th>\n",
       "      <td>279.8</td>\n",
       "      <td>0.24</td>\n",
       "      <td>LiquidityPool(token='rune', value=523.05136871...</td>\n",
       "      <td>LiquidityPool(token='asset', value=1.289209573...</td>\n",
       "      <td>200.0</td>\n",
       "      <td>0.5</td>\n",
       "      <td>[SingleStaker(token='asset', wallet=10.0, lp_r...</td>\n",
       "      <td>[SingleStaker(token='rune', wallet=9840.0, lp_...</td>\n",
       "      <td>0</td>\n",
       "      <td>0</td>\n",
       "      <td>1</td>\n",
       "      <td>1</td>\n",
       "      <td>20</td>\n",
       "      <td>2615.256844</td>\n",
       "      <td>2578.419147</td>\n",
       "    </tr>\n",
       "    <tr>\n",
       "      <th>59</th>\n",
       "      <td>439.8</td>\n",
       "      <td>0.99</td>\n",
       "      <td>LiquidityPool(token='rune', value=523.05136871...</td>\n",
       "      <td>LiquidityPool(token='asset', value=1.289209573...</td>\n",
       "      <td>200.0</td>\n",
       "      <td>0.5</td>\n",
       "      <td>[SingleStaker(token='asset', wallet=10.0, lp_r...</td>\n",
       "      <td>[SingleStaker(token='rune', wallet=9840.0, lp_...</td>\n",
       "      <td>0</td>\n",
       "      <td>0</td>\n",
       "      <td>1</td>\n",
       "      <td>2</td>\n",
       "      <td>20</td>\n",
       "      <td>2615.256844</td>\n",
       "      <td>2578.419147</td>\n",
       "    </tr>\n",
       "    <tr>\n",
       "      <th>60</th>\n",
       "      <td>439.8</td>\n",
       "      <td>0.99</td>\n",
       "      <td>LiquidityPool(token='rune', value=527.33587495...</td>\n",
       "      <td>LiquidityPool(token='asset', value=1.258609823...</td>\n",
       "      <td>200.0</td>\n",
       "      <td>0.5</td>\n",
       "      <td>[SingleStaker(token='asset', wallet=10.0, lp_r...</td>\n",
       "      <td>[SingleStaker(token='rune', wallet=9840.0, lp_...</td>\n",
       "      <td>0</td>\n",
       "      <td>0</td>\n",
       "      <td>1</td>\n",
       "      <td>3</td>\n",
       "      <td>20</td>\n",
       "      <td>2636.679375</td>\n",
       "      <td>2517.219646</td>\n",
       "    </tr>\n",
       "  </tbody>\n",
       "</table>\n",
       "<p>61 rows × 15 columns</p>\n",
       "</div>"
      ],
      "text/plain": [
       "    rune_vault  asset_vault  \\\n",
       "0          0.0         0.00   \n",
       "1          0.0         0.00   \n",
       "2          0.0         0.00   \n",
       "3          0.0         0.00   \n",
       "4          0.0         0.00   \n",
       "..         ...          ...   \n",
       "56       279.8         0.24   \n",
       "57       279.8         0.24   \n",
       "58       279.8         0.24   \n",
       "59       439.8         0.99   \n",
       "60       439.8         0.99   \n",
       "\n",
       "                                            rune_pool  \\\n",
       "0   LiquidityPool(token='rune', value=400.0, share...   \n",
       "1   LiquidityPool(token='rune', value=400.0, share...   \n",
       "2   LiquidityPool(token='rune', value=400.0, share...   \n",
       "3   LiquidityPool(token='rune', value=403.92410217...   \n",
       "4   LiquidityPool(token='rune', value=399.50361620...   \n",
       "..                                                ...   \n",
       "56  LiquidityPool(token='rune', value=528.94923866...   \n",
       "57  LiquidityPool(token='rune', value=535.58595381...   \n",
       "58  LiquidityPool(token='rune', value=523.05136871...   \n",
       "59  LiquidityPool(token='rune', value=523.05136871...   \n",
       "60  LiquidityPool(token='rune', value=527.33587495...   \n",
       "\n",
       "                                           asset_pool  rune_stake  \\\n",
       "0   LiquidityPool(token='asset', value=1.0, shares...         0.0   \n",
       "1   LiquidityPool(token='asset', value=1.0, shares...         0.0   \n",
       "2   LiquidityPool(token='asset', value=1.0, shares...         0.0   \n",
       "3   LiquidityPool(token='asset', value=0.969707984...         0.0   \n",
       "4   LiquidityPool(token='asset', value=0.979557102...         0.0   \n",
       "..                                                ...         ...   \n",
       "56  LiquidityPool(token='asset', value=1.297038583...       200.0   \n",
       "57  LiquidityPool(token='asset', value=1.260602418...       200.0   \n",
       "58  LiquidityPool(token='asset', value=1.289209573...       200.0   \n",
       "59  LiquidityPool(token='asset', value=1.289209573...       200.0   \n",
       "60  LiquidityPool(token='asset', value=1.258609823...       200.0   \n",
       "\n",
       "    asset_stake                                      asset_stakers  \\\n",
       "0           0.0  [SingleStaker(token='asset', wallet=10.0, lp_r...   \n",
       "1           0.0  [SingleStaker(token='asset', wallet=10.0, lp_r...   \n",
       "2           0.0  [SingleStaker(token='asset', wallet=10.0, lp_r...   \n",
       "3           0.0  [SingleStaker(token='asset', wallet=10.0, lp_r...   \n",
       "4           0.0  [SingleStaker(token='asset', wallet=10.0, lp_r...   \n",
       "..          ...                                                ...   \n",
       "56          0.5  [SingleStaker(token='asset', wallet=10.0, lp_r...   \n",
       "57          0.5  [SingleStaker(token='asset', wallet=10.0, lp_r...   \n",
       "58          0.5  [SingleStaker(token='asset', wallet=10.0, lp_r...   \n",
       "59          0.5  [SingleStaker(token='asset', wallet=10.0, lp_r...   \n",
       "60          0.5  [SingleStaker(token='asset', wallet=10.0, lp_r...   \n",
       "\n",
       "                                         rune_stakers  simulation  subset  \\\n",
       "0   [SingleStaker(token='rune', wallet=10000.0, lp...           0       0   \n",
       "1   [SingleStaker(token='rune', wallet=10000.0, lp...           0       0   \n",
       "2   [SingleStaker(token='rune', wallet=10000.0, lp...           0       0   \n",
       "3   [SingleStaker(token='rune', wallet=10000.0, lp...           0       0   \n",
       "4   [SingleStaker(token='rune', wallet=10000.0, lp...           0       0   \n",
       "..                                                ...         ...     ...   \n",
       "56  [SingleStaker(token='rune', wallet=9840.0, lp_...           0       0   \n",
       "57  [SingleStaker(token='rune', wallet=9840.0, lp_...           0       0   \n",
       "58  [SingleStaker(token='rune', wallet=9840.0, lp_...           0       0   \n",
       "59  [SingleStaker(token='rune', wallet=9840.0, lp_...           0       0   \n",
       "60  [SingleStaker(token='rune', wallet=9840.0, lp_...           0       0   \n",
       "\n",
       "    run  substep  timestep  rune_pool_value  asset_pool_value  \n",
       "0     1        0         0      2000.000000       2000.000000  \n",
       "1     1        1         1      2000.000000       2000.000000  \n",
       "2     1        2         1      2000.000000       2000.000000  \n",
       "3     1        3         1      2019.620511       1939.415969  \n",
       "4     1        1         2      1997.518081       1959.114205  \n",
       "..  ...      ...       ...              ...               ...  \n",
       "56    1        2        19      2644.746193       2594.077167  \n",
       "57    1        3        19      2677.929769       2521.204836  \n",
       "58    1        1        20      2615.256844       2578.419147  \n",
       "59    1        2        20      2615.256844       2578.419147  \n",
       "60    1        3        20      2636.679375       2517.219646  \n",
       "\n",
       "[61 rows x 15 columns]"
      ]
     },
     "execution_count": 18,
     "metadata": {},
     "output_type": "execute_result"
    }
   ],
   "source": [
    "fig_df = (df.assign(rune_pool_value = lambda df: df.rune_pool.map(lambda pool: (pool.value * params['rune_price'][-1])))\n",
    ".assign(asset_pool_value = lambda df: df.asset_pool.map(lambda pool: (pool.value * params['asset_price'][-1]))))"
   ]
  },
  {
   "cell_type": "code",
   "execution_count": 19,
   "id": "1e5f1edc",
   "metadata": {},
   "outputs": [
    {
     "data": {
      "application/vnd.plotly.v1+json": {
       "config": {
        "plotlyServerURL": "https://plot.ly"
       },
       "data": [
        {
         "hovertemplate": "variable=rune_pool_value<br>simulation=0<br>run=1<br>timestep=%{x}<br>value=%{y}<extra></extra>",
         "legendgroup": "rune_pool_value",
         "line": {
          "color": "rgb(76,114,176)",
          "dash": "solid"
         },
         "marker": {
          "symbol": "circle"
         },
         "mode": "lines",
         "name": "rune_pool_value",
         "orientation": "v",
         "showlegend": true,
         "type": "scatter",
         "x": [
          0,
          1,
          1,
          1,
          2,
          2,
          2,
          3,
          3,
          3,
          4,
          4,
          4,
          5,
          5,
          5,
          6,
          6,
          6,
          7,
          7,
          7,
          8,
          8,
          8,
          9,
          9,
          9,
          10,
          10,
          10,
          11,
          11,
          11,
          12,
          12,
          12,
          13,
          13,
          13,
          14,
          14,
          14,
          15,
          15,
          15,
          16,
          16,
          16,
          17,
          17,
          17,
          18,
          18,
          18,
          19,
          19,
          19,
          20,
          20,
          20
         ],
         "xaxis": "x",
         "y": [
          2000,
          2000,
          2000,
          2019.6205108799663,
          1997.518081009735,
          1997.518081009735,
          2012.9609557697606,
          1983.6219844570544,
          1983.6219844570544,
          1956.751776912708,
          1956.751776912708,
          1956.751776912708,
          1980.9329622779944,
          1928.9366118976768,
          1928.9366118976768,
          1924.4421503322455,
          1907.786874543334,
          1907.786874543334,
          1913.0253161455087,
          1891.2672792199862,
          1891.2672792199862,
          1891.2846598462797,
          1869.9274439056398,
          1869.9274439056398,
          1877.4777684348012,
          1852.2450116367386,
          1852.2450116367386,
          1825.8591657740608,
          1825.8591657740608,
          1825.8591657740608,
          1830.2637655693884,
          1807.9692910489307,
          2807.9692910489307,
          2818.4804859713313,
          2791.235216685265,
          2791.235216685265,
          2803.850902052423,
          2772.9127768097374,
          2772.9127768097374,
          2757.4542059920277,
          2757.4542059920277,
          2757.4542059920277,
          2774.8460933040687,
          2718.459912700621,
          2718.459912700621,
          2729.0185234343426,
          2703.282380139167,
          2703.282380139167,
          2680.29831919531,
          2680.29831919531,
          2680.29831919531,
          2645.975796330129,
          2645.975796330129,
          2645.975796330129,
          2644.74619332047,
          2644.74619332047,
          2644.74619332047,
          2677.9297690739513,
          2615.2568435821076,
          2615.2568435821076,
          2636.6793747946585
         ],
         "yaxis": "y"
        },
        {
         "hovertemplate": "variable=asset_pool_value<br>simulation=0<br>run=1<br>timestep=%{x}<br>value=%{y}<extra></extra>",
         "legendgroup": "asset_pool_value",
         "line": {
          "color": "rgb(221,132,82)",
          "dash": "solid"
         },
         "marker": {
          "symbol": "circle"
         },
         "mode": "lines",
         "name": "asset_pool_value",
         "orientation": "v",
         "showlegend": true,
         "type": "scatter",
         "x": [
          0,
          1,
          1,
          1,
          2,
          2,
          2,
          3,
          3,
          3,
          4,
          4,
          4,
          5,
          5,
          5,
          6,
          6,
          6,
          7,
          7,
          7,
          8,
          8,
          8,
          9,
          9,
          9,
          10,
          10,
          10,
          11,
          11,
          11,
          12,
          12,
          12,
          13,
          13,
          13,
          14,
          14,
          14,
          15,
          15,
          15,
          16,
          16,
          16,
          17,
          17,
          17,
          18,
          18,
          18,
          19,
          19,
          19,
          20,
          20,
          20
         ],
         "xaxis": "x",
         "y": [
          2000,
          2000,
          2000,
          1939.4159694055172,
          1959.1142047916421,
          1959.1142047916421,
          1903.9583155887274,
          1930.5440595288815,
          1930.5440595288815,
          1916.4583495755653,
          1916.4583495755653,
          1916.4583495755653,
          1852.5746133567634,
          1899.2472853501504,
          1899.2472853501504,
          1865.9251908973347,
          1880.3554730939838,
          1880.3554730939838,
          1834.192573769136,
          1853.5381287482978,
          1853.5381287482978,
          1814.0668586802228,
          1833.02382886649,
          1833.02382886649,
          1784.837612306632,
          1807.4881304799694,
          1807.4881304799694,
          1791.9710001088313,
          1791.9710001088313,
          1791.9710001088313,
          1749.3196283234765,
          1769.1590363624496,
          2769.1590363624496,
          2717.713069289393,
          2742.5018537931496,
          2742.5018537931496,
          2688.3887574467303,
          2716.7231677329673,
          2716.7231677329673,
          2692.2077968313542,
          2692.2077968313542,
          2692.2077968313542,
          2634.6427079999676,
          2685.9081733331795,
          2685.9081733331795,
          2634.262603959432,
          2657.5820357422076,
          2657.5820357422076,
          2639.9402121269154,
          2639.9402121269154,
          2639.9402121269154,
          2633.0053144443846,
          2633.0053144443846,
          2633.0053144443846,
          2594.0771671872276,
          2594.0771671872276,
          2594.0771671872276,
          2521.2048364734214,
          2578.419146962229,
          2578.419146962229,
          2517.2196462422553
         ],
         "yaxis": "y"
        }
       ],
       "layout": {
        "annotations": [
         {
          "font": {},
          "showarrow": false,
          "text": "run=1",
          "x": 0.49,
          "xanchor": "center",
          "xref": "paper",
          "y": 1,
          "yanchor": "bottom",
          "yref": "paper"
         },
         {
          "font": {},
          "showarrow": false,
          "text": "simulation=0",
          "textangle": 90,
          "x": 0.98,
          "xanchor": "left",
          "xref": "paper",
          "y": 0.5,
          "yanchor": "middle",
          "yref": "paper"
         }
        ],
        "height": 800,
        "legend": {
         "title": {
          "text": "variable"
         },
         "tracegroupgap": 0
        },
        "margin": {
         "b": 20,
         "l": 20,
         "r": 20,
         "t": 20
        },
        "template": {
         "data": {
          "bar": [
           {
            "error_x": {
             "color": "rgb(36,36,36)"
            },
            "error_y": {
             "color": "rgb(36,36,36)"
            },
            "marker": {
             "line": {
              "color": "rgb(234,234,242)",
              "width": 0.5
             },
             "pattern": {
              "fillmode": "overlay",
              "size": 10,
              "solidity": 0.2
             }
            },
            "type": "bar"
           }
          ],
          "barpolar": [
           {
            "marker": {
             "line": {
              "color": "rgb(234,234,242)",
              "width": 0.5
             },
             "pattern": {
              "fillmode": "overlay",
              "size": 10,
              "solidity": 0.2
             }
            },
            "type": "barpolar"
           }
          ],
          "carpet": [
           {
            "aaxis": {
             "endlinecolor": "rgb(36,36,36)",
             "gridcolor": "white",
             "linecolor": "white",
             "minorgridcolor": "white",
             "startlinecolor": "rgb(36,36,36)"
            },
            "baxis": {
             "endlinecolor": "rgb(36,36,36)",
             "gridcolor": "white",
             "linecolor": "white",
             "minorgridcolor": "white",
             "startlinecolor": "rgb(36,36,36)"
            },
            "type": "carpet"
           }
          ],
          "choropleth": [
           {
            "colorbar": {
             "outlinewidth": 0,
             "tickcolor": "rgb(36,36,36)",
             "ticklen": 8,
             "ticks": "outside",
             "tickwidth": 2
            },
            "type": "choropleth"
           }
          ],
          "contour": [
           {
            "colorbar": {
             "outlinewidth": 0,
             "tickcolor": "rgb(36,36,36)",
             "ticklen": 8,
             "ticks": "outside",
             "tickwidth": 2
            },
            "colorscale": [
             [
              0,
              "rgb(2,4,25)"
             ],
             [
              0.06274509803921569,
              "rgb(24,15,41)"
             ],
             [
              0.12549019607843137,
              "rgb(47,23,57)"
             ],
             [
              0.18823529411764706,
              "rgb(71,28,72)"
             ],
             [
              0.25098039215686274,
              "rgb(97,30,82)"
             ],
             [
              0.3137254901960784,
              "rgb(123,30,89)"
             ],
             [
              0.3764705882352941,
              "rgb(150,27,91)"
             ],
             [
              0.4392156862745098,
              "rgb(177,22,88)"
             ],
             [
              0.5019607843137255,
              "rgb(203,26,79)"
             ],
             [
              0.5647058823529412,
              "rgb(223,47,67)"
             ],
             [
              0.6274509803921569,
              "rgb(236,76,61)"
             ],
             [
              0.6901960784313725,
              "rgb(242,107,73)"
             ],
             [
              0.7529411764705882,
              "rgb(244,135,95)"
             ],
             [
              0.8156862745098039,
              "rgb(245,162,122)"
             ],
             [
              0.8784313725490196,
              "rgb(246,188,153)"
             ],
             [
              0.9411764705882353,
              "rgb(247,212,187)"
             ],
             [
              1,
              "rgb(250,234,220)"
             ]
            ],
            "type": "contour"
           }
          ],
          "contourcarpet": [
           {
            "colorbar": {
             "outlinewidth": 0,
             "tickcolor": "rgb(36,36,36)",
             "ticklen": 8,
             "ticks": "outside",
             "tickwidth": 2
            },
            "type": "contourcarpet"
           }
          ],
          "heatmap": [
           {
            "colorbar": {
             "outlinewidth": 0,
             "tickcolor": "rgb(36,36,36)",
             "ticklen": 8,
             "ticks": "outside",
             "tickwidth": 2
            },
            "colorscale": [
             [
              0,
              "rgb(2,4,25)"
             ],
             [
              0.06274509803921569,
              "rgb(24,15,41)"
             ],
             [
              0.12549019607843137,
              "rgb(47,23,57)"
             ],
             [
              0.18823529411764706,
              "rgb(71,28,72)"
             ],
             [
              0.25098039215686274,
              "rgb(97,30,82)"
             ],
             [
              0.3137254901960784,
              "rgb(123,30,89)"
             ],
             [
              0.3764705882352941,
              "rgb(150,27,91)"
             ],
             [
              0.4392156862745098,
              "rgb(177,22,88)"
             ],
             [
              0.5019607843137255,
              "rgb(203,26,79)"
             ],
             [
              0.5647058823529412,
              "rgb(223,47,67)"
             ],
             [
              0.6274509803921569,
              "rgb(236,76,61)"
             ],
             [
              0.6901960784313725,
              "rgb(242,107,73)"
             ],
             [
              0.7529411764705882,
              "rgb(244,135,95)"
             ],
             [
              0.8156862745098039,
              "rgb(245,162,122)"
             ],
             [
              0.8784313725490196,
              "rgb(246,188,153)"
             ],
             [
              0.9411764705882353,
              "rgb(247,212,187)"
             ],
             [
              1,
              "rgb(250,234,220)"
             ]
            ],
            "type": "heatmap"
           }
          ],
          "heatmapgl": [
           {
            "colorbar": {
             "outlinewidth": 0,
             "tickcolor": "rgb(36,36,36)",
             "ticklen": 8,
             "ticks": "outside",
             "tickwidth": 2
            },
            "colorscale": [
             [
              0,
              "rgb(2,4,25)"
             ],
             [
              0.06274509803921569,
              "rgb(24,15,41)"
             ],
             [
              0.12549019607843137,
              "rgb(47,23,57)"
             ],
             [
              0.18823529411764706,
              "rgb(71,28,72)"
             ],
             [
              0.25098039215686274,
              "rgb(97,30,82)"
             ],
             [
              0.3137254901960784,
              "rgb(123,30,89)"
             ],
             [
              0.3764705882352941,
              "rgb(150,27,91)"
             ],
             [
              0.4392156862745098,
              "rgb(177,22,88)"
             ],
             [
              0.5019607843137255,
              "rgb(203,26,79)"
             ],
             [
              0.5647058823529412,
              "rgb(223,47,67)"
             ],
             [
              0.6274509803921569,
              "rgb(236,76,61)"
             ],
             [
              0.6901960784313725,
              "rgb(242,107,73)"
             ],
             [
              0.7529411764705882,
              "rgb(244,135,95)"
             ],
             [
              0.8156862745098039,
              "rgb(245,162,122)"
             ],
             [
              0.8784313725490196,
              "rgb(246,188,153)"
             ],
             [
              0.9411764705882353,
              "rgb(247,212,187)"
             ],
             [
              1,
              "rgb(250,234,220)"
             ]
            ],
            "type": "heatmapgl"
           }
          ],
          "histogram": [
           {
            "marker": {
             "pattern": {
              "fillmode": "overlay",
              "size": 10,
              "solidity": 0.2
             }
            },
            "type": "histogram"
           }
          ],
          "histogram2d": [
           {
            "colorbar": {
             "outlinewidth": 0,
             "tickcolor": "rgb(36,36,36)",
             "ticklen": 8,
             "ticks": "outside",
             "tickwidth": 2
            },
            "colorscale": [
             [
              0,
              "rgb(2,4,25)"
             ],
             [
              0.06274509803921569,
              "rgb(24,15,41)"
             ],
             [
              0.12549019607843137,
              "rgb(47,23,57)"
             ],
             [
              0.18823529411764706,
              "rgb(71,28,72)"
             ],
             [
              0.25098039215686274,
              "rgb(97,30,82)"
             ],
             [
              0.3137254901960784,
              "rgb(123,30,89)"
             ],
             [
              0.3764705882352941,
              "rgb(150,27,91)"
             ],
             [
              0.4392156862745098,
              "rgb(177,22,88)"
             ],
             [
              0.5019607843137255,
              "rgb(203,26,79)"
             ],
             [
              0.5647058823529412,
              "rgb(223,47,67)"
             ],
             [
              0.6274509803921569,
              "rgb(236,76,61)"
             ],
             [
              0.6901960784313725,
              "rgb(242,107,73)"
             ],
             [
              0.7529411764705882,
              "rgb(244,135,95)"
             ],
             [
              0.8156862745098039,
              "rgb(245,162,122)"
             ],
             [
              0.8784313725490196,
              "rgb(246,188,153)"
             ],
             [
              0.9411764705882353,
              "rgb(247,212,187)"
             ],
             [
              1,
              "rgb(250,234,220)"
             ]
            ],
            "type": "histogram2d"
           }
          ],
          "histogram2dcontour": [
           {
            "colorbar": {
             "outlinewidth": 0,
             "tickcolor": "rgb(36,36,36)",
             "ticklen": 8,
             "ticks": "outside",
             "tickwidth": 2
            },
            "colorscale": [
             [
              0,
              "rgb(2,4,25)"
             ],
             [
              0.06274509803921569,
              "rgb(24,15,41)"
             ],
             [
              0.12549019607843137,
              "rgb(47,23,57)"
             ],
             [
              0.18823529411764706,
              "rgb(71,28,72)"
             ],
             [
              0.25098039215686274,
              "rgb(97,30,82)"
             ],
             [
              0.3137254901960784,
              "rgb(123,30,89)"
             ],
             [
              0.3764705882352941,
              "rgb(150,27,91)"
             ],
             [
              0.4392156862745098,
              "rgb(177,22,88)"
             ],
             [
              0.5019607843137255,
              "rgb(203,26,79)"
             ],
             [
              0.5647058823529412,
              "rgb(223,47,67)"
             ],
             [
              0.6274509803921569,
              "rgb(236,76,61)"
             ],
             [
              0.6901960784313725,
              "rgb(242,107,73)"
             ],
             [
              0.7529411764705882,
              "rgb(244,135,95)"
             ],
             [
              0.8156862745098039,
              "rgb(245,162,122)"
             ],
             [
              0.8784313725490196,
              "rgb(246,188,153)"
             ],
             [
              0.9411764705882353,
              "rgb(247,212,187)"
             ],
             [
              1,
              "rgb(250,234,220)"
             ]
            ],
            "type": "histogram2dcontour"
           }
          ],
          "mesh3d": [
           {
            "colorbar": {
             "outlinewidth": 0,
             "tickcolor": "rgb(36,36,36)",
             "ticklen": 8,
             "ticks": "outside",
             "tickwidth": 2
            },
            "type": "mesh3d"
           }
          ],
          "parcoords": [
           {
            "line": {
             "colorbar": {
              "outlinewidth": 0,
              "tickcolor": "rgb(36,36,36)",
              "ticklen": 8,
              "ticks": "outside",
              "tickwidth": 2
             }
            },
            "type": "parcoords"
           }
          ],
          "pie": [
           {
            "automargin": true,
            "type": "pie"
           }
          ],
          "scatter": [
           {
            "marker": {
             "colorbar": {
              "outlinewidth": 0,
              "tickcolor": "rgb(36,36,36)",
              "ticklen": 8,
              "ticks": "outside",
              "tickwidth": 2
             }
            },
            "type": "scatter"
           }
          ],
          "scatter3d": [
           {
            "line": {
             "colorbar": {
              "outlinewidth": 0,
              "tickcolor": "rgb(36,36,36)",
              "ticklen": 8,
              "ticks": "outside",
              "tickwidth": 2
             }
            },
            "marker": {
             "colorbar": {
              "outlinewidth": 0,
              "tickcolor": "rgb(36,36,36)",
              "ticklen": 8,
              "ticks": "outside",
              "tickwidth": 2
             }
            },
            "type": "scatter3d"
           }
          ],
          "scattercarpet": [
           {
            "marker": {
             "colorbar": {
              "outlinewidth": 0,
              "tickcolor": "rgb(36,36,36)",
              "ticklen": 8,
              "ticks": "outside",
              "tickwidth": 2
             }
            },
            "type": "scattercarpet"
           }
          ],
          "scattergeo": [
           {
            "marker": {
             "colorbar": {
              "outlinewidth": 0,
              "tickcolor": "rgb(36,36,36)",
              "ticklen": 8,
              "ticks": "outside",
              "tickwidth": 2
             }
            },
            "type": "scattergeo"
           }
          ],
          "scattergl": [
           {
            "marker": {
             "colorbar": {
              "outlinewidth": 0,
              "tickcolor": "rgb(36,36,36)",
              "ticklen": 8,
              "ticks": "outside",
              "tickwidth": 2
             }
            },
            "type": "scattergl"
           }
          ],
          "scattermapbox": [
           {
            "marker": {
             "colorbar": {
              "outlinewidth": 0,
              "tickcolor": "rgb(36,36,36)",
              "ticklen": 8,
              "ticks": "outside",
              "tickwidth": 2
             }
            },
            "type": "scattermapbox"
           }
          ],
          "scatterpolar": [
           {
            "marker": {
             "colorbar": {
              "outlinewidth": 0,
              "tickcolor": "rgb(36,36,36)",
              "ticklen": 8,
              "ticks": "outside",
              "tickwidth": 2
             }
            },
            "type": "scatterpolar"
           }
          ],
          "scatterpolargl": [
           {
            "marker": {
             "colorbar": {
              "outlinewidth": 0,
              "tickcolor": "rgb(36,36,36)",
              "ticklen": 8,
              "ticks": "outside",
              "tickwidth": 2
             }
            },
            "type": "scatterpolargl"
           }
          ],
          "scatterternary": [
           {
            "marker": {
             "colorbar": {
              "outlinewidth": 0,
              "tickcolor": "rgb(36,36,36)",
              "ticklen": 8,
              "ticks": "outside",
              "tickwidth": 2
             }
            },
            "type": "scatterternary"
           }
          ],
          "surface": [
           {
            "colorbar": {
             "outlinewidth": 0,
             "tickcolor": "rgb(36,36,36)",
             "ticklen": 8,
             "ticks": "outside",
             "tickwidth": 2
            },
            "colorscale": [
             [
              0,
              "rgb(2,4,25)"
             ],
             [
              0.06274509803921569,
              "rgb(24,15,41)"
             ],
             [
              0.12549019607843137,
              "rgb(47,23,57)"
             ],
             [
              0.18823529411764706,
              "rgb(71,28,72)"
             ],
             [
              0.25098039215686274,
              "rgb(97,30,82)"
             ],
             [
              0.3137254901960784,
              "rgb(123,30,89)"
             ],
             [
              0.3764705882352941,
              "rgb(150,27,91)"
             ],
             [
              0.4392156862745098,
              "rgb(177,22,88)"
             ],
             [
              0.5019607843137255,
              "rgb(203,26,79)"
             ],
             [
              0.5647058823529412,
              "rgb(223,47,67)"
             ],
             [
              0.6274509803921569,
              "rgb(236,76,61)"
             ],
             [
              0.6901960784313725,
              "rgb(242,107,73)"
             ],
             [
              0.7529411764705882,
              "rgb(244,135,95)"
             ],
             [
              0.8156862745098039,
              "rgb(245,162,122)"
             ],
             [
              0.8784313725490196,
              "rgb(246,188,153)"
             ],
             [
              0.9411764705882353,
              "rgb(247,212,187)"
             ],
             [
              1,
              "rgb(250,234,220)"
             ]
            ],
            "type": "surface"
           }
          ],
          "table": [
           {
            "cells": {
             "fill": {
              "color": "rgb(231,231,240)"
             },
             "line": {
              "color": "white"
             }
            },
            "header": {
             "fill": {
              "color": "rgb(183,183,191)"
             },
             "line": {
              "color": "white"
             }
            },
            "type": "table"
           }
          ]
         },
         "layout": {
          "annotationdefaults": {
           "arrowcolor": "rgb(67,103,167)"
          },
          "autotypenumbers": "strict",
          "coloraxis": {
           "colorbar": {
            "outlinewidth": 0,
            "tickcolor": "rgb(36,36,36)",
            "ticklen": 8,
            "ticks": "outside",
            "tickwidth": 2
           }
          },
          "colorscale": {
           "sequential": [
            [
             0,
             "rgb(2,4,25)"
            ],
            [
             0.06274509803921569,
             "rgb(24,15,41)"
            ],
            [
             0.12549019607843137,
             "rgb(47,23,57)"
            ],
            [
             0.18823529411764706,
             "rgb(71,28,72)"
            ],
            [
             0.25098039215686274,
             "rgb(97,30,82)"
            ],
            [
             0.3137254901960784,
             "rgb(123,30,89)"
            ],
            [
             0.3764705882352941,
             "rgb(150,27,91)"
            ],
            [
             0.4392156862745098,
             "rgb(177,22,88)"
            ],
            [
             0.5019607843137255,
             "rgb(203,26,79)"
            ],
            [
             0.5647058823529412,
             "rgb(223,47,67)"
            ],
            [
             0.6274509803921569,
             "rgb(236,76,61)"
            ],
            [
             0.6901960784313725,
             "rgb(242,107,73)"
            ],
            [
             0.7529411764705882,
             "rgb(244,135,95)"
            ],
            [
             0.8156862745098039,
             "rgb(245,162,122)"
            ],
            [
             0.8784313725490196,
             "rgb(246,188,153)"
            ],
            [
             0.9411764705882353,
             "rgb(247,212,187)"
            ],
            [
             1,
             "rgb(250,234,220)"
            ]
           ],
           "sequentialminus": [
            [
             0,
             "rgb(2,4,25)"
            ],
            [
             0.06274509803921569,
             "rgb(24,15,41)"
            ],
            [
             0.12549019607843137,
             "rgb(47,23,57)"
            ],
            [
             0.18823529411764706,
             "rgb(71,28,72)"
            ],
            [
             0.25098039215686274,
             "rgb(97,30,82)"
            ],
            [
             0.3137254901960784,
             "rgb(123,30,89)"
            ],
            [
             0.3764705882352941,
             "rgb(150,27,91)"
            ],
            [
             0.4392156862745098,
             "rgb(177,22,88)"
            ],
            [
             0.5019607843137255,
             "rgb(203,26,79)"
            ],
            [
             0.5647058823529412,
             "rgb(223,47,67)"
            ],
            [
             0.6274509803921569,
             "rgb(236,76,61)"
            ],
            [
             0.6901960784313725,
             "rgb(242,107,73)"
            ],
            [
             0.7529411764705882,
             "rgb(244,135,95)"
            ],
            [
             0.8156862745098039,
             "rgb(245,162,122)"
            ],
            [
             0.8784313725490196,
             "rgb(246,188,153)"
            ],
            [
             0.9411764705882353,
             "rgb(247,212,187)"
            ],
            [
             1,
             "rgb(250,234,220)"
            ]
           ]
          },
          "colorway": [
           "rgb(76,114,176)",
           "rgb(221,132,82)",
           "rgb(85,168,104)",
           "rgb(196,78,82)",
           "rgb(129,114,179)",
           "rgb(147,120,96)",
           "rgb(218,139,195)",
           "rgb(140,140,140)",
           "rgb(204,185,116)",
           "rgb(100,181,205)"
          ],
          "font": {
           "color": "rgb(36,36,36)"
          },
          "geo": {
           "bgcolor": "white",
           "lakecolor": "white",
           "landcolor": "rgb(234,234,242)",
           "showlakes": true,
           "showland": true,
           "subunitcolor": "white"
          },
          "hoverlabel": {
           "align": "left"
          },
          "hovermode": "closest",
          "paper_bgcolor": "white",
          "plot_bgcolor": "rgb(234,234,242)",
          "polar": {
           "angularaxis": {
            "gridcolor": "white",
            "linecolor": "white",
            "showgrid": true,
            "ticks": ""
           },
           "bgcolor": "rgb(234,234,242)",
           "radialaxis": {
            "gridcolor": "white",
            "linecolor": "white",
            "showgrid": true,
            "ticks": ""
           }
          },
          "scene": {
           "xaxis": {
            "backgroundcolor": "rgb(234,234,242)",
            "gridcolor": "white",
            "gridwidth": 2,
            "linecolor": "white",
            "showbackground": true,
            "showgrid": true,
            "ticks": "",
            "zerolinecolor": "white"
           },
           "yaxis": {
            "backgroundcolor": "rgb(234,234,242)",
            "gridcolor": "white",
            "gridwidth": 2,
            "linecolor": "white",
            "showbackground": true,
            "showgrid": true,
            "ticks": "",
            "zerolinecolor": "white"
           },
           "zaxis": {
            "backgroundcolor": "rgb(234,234,242)",
            "gridcolor": "white",
            "gridwidth": 2,
            "linecolor": "white",
            "showbackground": true,
            "showgrid": true,
            "ticks": "",
            "zerolinecolor": "white"
           }
          },
          "shapedefaults": {
           "fillcolor": "rgb(67,103,167)",
           "line": {
            "width": 0
           },
           "opacity": 0.5
          },
          "ternary": {
           "aaxis": {
            "gridcolor": "white",
            "linecolor": "white",
            "showgrid": true,
            "ticks": ""
           },
           "baxis": {
            "gridcolor": "white",
            "linecolor": "white",
            "showgrid": true,
            "ticks": ""
           },
           "bgcolor": "rgb(234,234,242)",
           "caxis": {
            "gridcolor": "white",
            "linecolor": "white",
            "showgrid": true,
            "ticks": ""
           }
          },
          "xaxis": {
           "automargin": true,
           "gridcolor": "white",
           "linecolor": "white",
           "showgrid": true,
           "ticks": "",
           "title": {
            "standoff": 15
           },
           "zerolinecolor": "white"
          },
          "yaxis": {
           "automargin": true,
           "gridcolor": "white",
           "linecolor": "white",
           "showgrid": true,
           "ticks": "",
           "title": {
            "standoff": 15
           },
           "zerolinecolor": "white"
          }
         }
        },
        "xaxis": {
         "anchor": "y",
         "domain": [
          0,
          0.98
         ],
         "title": {
          "text": "timestep"
         }
        },
        "yaxis": {
         "anchor": "x",
         "domain": [
          0,
          1
         ],
         "title": {
          "text": "value"
         }
        }
       }
      }
     },
     "metadata": {},
     "output_type": "display_data"
    }
   ],
   "source": [
    "import plotly.express as px\n",
    "\n",
    "fig = px.line(\n",
    "    fig_df,\n",
    "    x='timestep',\n",
    "    y=['rune_pool_value', 'asset_pool_value'],\n",
    "    facet_row='simulation',\n",
    "    facet_col='run',\n",
    "    height=800,\n",
    "    template='seaborn'\n",
    ")\n",
    "\n",
    "fig.update_layout(\n",
    "    margin=dict(l=20, r=20, t=20, b=20),\n",
    ")\n",
    "\n",
    "fig.show()"
   ]
  }
 ],
 "metadata": {
  "kernelspec": {
   "display_name": "Python 3 (ipykernel)",
   "language": "python",
   "name": "python3"
  },
  "language_info": {
   "codemirror_mode": {
    "name": "ipython",
    "version": 3
   },
   "file_extension": ".py",
   "mimetype": "text/x-python",
   "name": "python",
   "nbconvert_exporter": "python",
   "pygments_lexer": "ipython3",
   "version": "3.9.7"
  }
 },
 "nbformat": 4,
 "nbformat_minor": 5
}